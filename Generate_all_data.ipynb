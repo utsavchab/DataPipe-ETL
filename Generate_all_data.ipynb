{
 "cells": [
  {
   "cell_type": "code",
   "execution_count": 1,
   "metadata": {},
   "outputs": [],
   "source": [
    "import schedule\n",
    "import generate_data_library as generate_data\n",
    "import threading "
   ]
  },
  {
   "cell_type": "code",
   "execution_count": 2,
   "metadata": {},
   "outputs": [],
   "source": [
    "# Run this cell to install all the requirements\n",
    "# generate_data.install_req_libraries()"
   ]
  },
  {
   "cell_type": "code",
   "execution_count": 3,
   "metadata": {},
   "outputs": [],
   "source": [
    "# db = generate_data.get_database(\"website\")\n",
    "# products_table = generate_data.get_products_table()"
   ]
  },
  {
   "cell_type": "code",
   "execution_count": 4,
   "metadata": {},
   "outputs": [
    {
     "name": "stdout",
     "output_type": "stream",
     "text": [
      "Generating users Data\n",
      "Generating refunds Data\n",
      "Generating transaction Data\n"
     ]
    },
    {
     "name": "stderr",
     "output_type": "stream",
     "text": [
      "c:\\Users\\utsav\\OneDrive\\Desktop\\projects\\SQl ETL\\generate_data_library\\generate_user.py:78: FutureWarning: The pandas.datetime class is deprecated and will be removed from pandas in a future version. Import from datetime module instead.\n",
      "  signup_time = str(pd.datetime.now())\n",
      "c:\\Users\\utsav\\OneDrive\\Desktop\\projects\\SQl ETL\\generate_data_library\\generate_refund.py:73: FutureWarning: The pandas.datetime class is deprecated and will be removed from pandas in a future version. Import from datetime module instead.\n",
      "  ticket_raise_time = str(pd.datetime.now())\n",
      "c:\\Users\\utsav\\OneDrive\\Desktop\\projects\\SQl ETL\\generate_data_library\\generate_transaction.py:81: FutureWarning: The pandas.datetime class is deprecated and will be removed from pandas in a future version. Import from datetime module instead.\n",
      "  transaction_time = str(pd.datetime.now())\n"
     ]
    }
   ],
   "source": [
    "t1 = threading.Thread(target=generate_data.add_users )\n",
    "t2 = threading.Thread(target=generate_data.add_refund)\n",
    "t3 = threading.Thread(target=generate_data.add_transactions)\n",
    "t1.start()\n",
    "t2.start()\n",
    "t3.start()\n",
    "t1.join()\n",
    "t2.join()\n",
    "t3.join()"
   ]
  },
  {
   "cell_type": "code",
   "execution_count": null,
   "metadata": {},
   "outputs": [],
   "source": []
  },
  {
   "cell_type": "code",
   "execution_count": null,
   "metadata": {},
   "outputs": [],
   "source": []
  }
 ],
 "metadata": {
  "kernelspec": {
   "display_name": "base",
   "language": "python",
   "name": "python3"
  },
  "language_info": {
   "codemirror_mode": {
    "name": "ipython",
    "version": 3
   },
   "file_extension": ".py",
   "mimetype": "text/x-python",
   "name": "python",
   "nbconvert_exporter": "python",
   "pygments_lexer": "ipython3",
   "version": "3.9.7"
  },
  "orig_nbformat": 4
 },
 "nbformat": 4,
 "nbformat_minor": 2
}
