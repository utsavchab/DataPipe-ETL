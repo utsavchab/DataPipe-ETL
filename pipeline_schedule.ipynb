{
 "cells": [
  {
   "cell_type": "code",
   "execution_count": 7,
   "metadata": {},
   "outputs": [],
   "source": [
    "import pipeline_library as pipe_lib\n",
    "import time\n",
    "import schedule"
   ]
  },
  {
   "cell_type": "code",
   "execution_count": 8,
   "metadata": {},
   "outputs": [],
   "source": [
    "db = pipe_lib.get_database(\"website\")\n",
    "product_data = pipe_lib.get_products_table()"
   ]
  },
  {
   "cell_type": "code",
   "execution_count": 9,
   "metadata": {},
   "outputs": [
    {
     "data": {
      "text/plain": [
       "Every 90 seconds do pipeline_refund_data(<mysql.connector.connection_cext.CMySQLConnection object at 0x0000024AF8B2E2B0>) (last run: [never], next run: 2023-06-09 16:20:21)"
      ]
     },
     "execution_count": 9,
     "metadata": {},
     "output_type": "execute_result"
    }
   ],
   "source": [
    "schedule.every(30).seconds.do(pipe_lib.pipeline_user_data, db)\n",
    "schedule.every(60).seconds.do(pipe_lib.pipeline_transaction_data,db,product_data)\n",
    "schedule.every(90).seconds.do(pipe_lib.pipeline_refund_data,db)"
   ]
  },
  {
   "cell_type": "code",
   "execution_count": 10,
   "metadata": {},
   "outputs": [
    {
     "name": "stdout",
     "output_type": "stream",
     "text": [
      "\n",
      "==================================Loading User Data====================================\n",
      "Extracting data from time 2023-06-09 16:13:51.501533 to 2023-06-09 16:18:51.501533\n",
      "------------------------------User Summary Loaded to DataBase----------------------------\n",
      "====================================Load Success=========================================\n",
      "\n",
      "\n",
      "==================================Loading Transaction Data====================================\n",
      "Extracting transactions between 2023-06-09 16:08:51.568112 and 2023-06-09 16:18:51.568112\n",
      "---------------------------Transaction Summary Loaded to DataBase-------------------------\n",
      "====================================Load Success=========================================\n",
      "\n",
      "\n",
      "==================================Loading Refund Data====================================\n",
      "Extracting transactions between 2023-06-07 16:18:51.591108 and 2023-06-09 16:18:51.591108\n",
      "------------------------------Valid Refund Loaded to DataBase----------------------------\n",
      "------------------------------Invalid Refund Loaded to CSV-------------------------------\n",
      "====================================Load Success=========================================\n",
      "\n"
     ]
    }
   ],
   "source": [
    "while True:\n",
    "    schedule.run_pending()\n",
    "    time.sleep(1)"
   ]
  },
  {
   "cell_type": "code",
   "execution_count": null,
   "metadata": {},
   "outputs": [],
   "source": []
  }
 ],
 "metadata": {
  "kernelspec": {
   "display_name": "base",
   "language": "python",
   "name": "python3"
  },
  "language_info": {
   "codemirror_mode": {
    "name": "ipython",
    "version": 3
   },
   "file_extension": ".py",
   "mimetype": "text/x-python",
   "name": "python",
   "nbconvert_exporter": "python",
   "pygments_lexer": "ipython3",
   "version": "3.9.7"
  },
  "orig_nbformat": 4
 },
 "nbformat": 4,
 "nbformat_minor": 2
}
